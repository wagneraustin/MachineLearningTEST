{
 "cells": [
  {
   "cell_type": "code",
   "execution_count": 7,
   "metadata": {},
   "outputs": [],
   "source": [
    "import urllib.request as ur\n",
    "import re\n",
    "from math import isnan\n",
    "\n",
    "femPregDCT = ur.urlopen(\"https://raw.githubusercontent.com/AllenDowney/ThinkStats2/master/code/2002FemPreg.dct\")\n",
    "\n",
    "femRespDCT = ur.urlopen(\"https://github.com/AllenDowney/ThinkStats2/raw/master/code/2002FemResp.dct\")\n",
    "\n",
    "pregDataZip = \"https://github.com/AllenDowney/ThinkStats2/blob/master/code/2002FemPreg.dat.gz?raw=true\"\n",
    "\n",
    "respDataZip = \"https://github.com/AllenDowney/ThinkStats2/blob/master/code/2002FemResp.dat.gz?raw=true\"\n"
   ]
  },
  {
   "cell_type": "code",
   "execution_count": 4,
   "metadata": {},
   "outputs": [],
   "source": [
    "fPDCT = []\n",
    "\n",
    "fRDCT = []\n",
    "\n",
    "for i in femPregDCT:\n",
    "\tfPDCT.append(i.decode(\"utf-8\") )\n",
    "\t\n",
    "for i in femRespDCT:\n",
    "\tfRDCT.append(i.decode(\"utf-8\") )"
   ]
  },
  {
   "cell_type": "code",
   "execution_count": 5,
   "metadata": {},
   "outputs": [],
   "source": [
    "class FixedWidthVariables(object):\n",
    "    \"\"\"Represents a set of variables in a fixed width file.\"\"\"\n",
    "    def __init__(self, variables, index_base=0):\n",
    "        \"\"\"Initializes.\n",
    "        variables: DataFrame\n",
    "        index_base: are the indices 0 or 1 based?\n",
    "        Attributes:\n",
    "        colspecs: list of (start, end) index tuples\n",
    "        names: list of string variable names\n",
    "        \"\"\"\n",
    "        self.variables = variables\n",
    "        # note: by default, subtract 1 from colspecs\n",
    "        self.colspecs = variables[['start', 'end']] - index_base\n",
    "        # convert colspecs to a list of pair of int\n",
    "        self.colspecs = self.colspecs.astype(np.int).values.tolist()\n",
    "        self.names = variables['name']\n",
    "\n",
    "    def ReadFixedWidth(self, filename, **options):\n",
    "        \"\"\"Reads a fixed width ASCII file.\n",
    "        filename: string filename\n",
    "        returns: DataFrame\n",
    "        \"\"\"\n",
    "        df = pd.read_fwf(filename,\n",
    "                             colspecs=self.colspecs, \n",
    "                             names=self.names,\n",
    "                             **options)\n",
    "        return df\n",
    "\n",
    "def ReadStataDct(dct_file):\n",
    "\ttype_map = dict(byte=int, int=int, long=int, float=float, double=float)\n",
    "\tvar_info = []\n",
    "\tfor line in dct_file:\n",
    "\t\t\tmatch = re.search( r'_column\\(([^)]*)\\)', line)\n",
    "\t\t\tif match:\n",
    "\t\t\t\tstart = int(match.group(1))\n",
    "\t\t\t\tt = line.split()\n",
    "\t\t\t\tvtype, name, fstring = t[1:4]\n",
    "\t\t\t\tname = name.lower()\n",
    "\t\t\t\tif vtype.startswith('str'):\n",
    "\t\t\t\t\tvtype = str\n",
    "\t\t\t\telse:\n",
    "\t\t\t\t\tvtype = type_map[vtype]\n",
    "\t\t\t\tlong_desc = ' '.join(t[4:]).strip('\"')\n",
    "\t\t\t\tvar_info.append((start, vtype, name, fstring, long_desc))\n",
    "\tcolumns = ['start', 'type', 'name', 'fstring', 'desc']\n",
    "\tvariables = pd.DataFrame(var_info, columns=columns)\n",
    "\tvariables['end'] = variables.start.shift(-1)\n",
    "\tvariables.loc[len(variables)-1, 'end'] = 0\n",
    "\tdct = FixedWidthVariables(variables, index_base=1)\n",
    "\treturn dct\n",
    "\n",
    "def CleanFemPreg(df):\n",
    "    \"\"\"Recodes variables from the pregnancy frame.\n",
    "    df: DataFrame\n",
    "    \"\"\"\n",
    "    # mother's age is encoded in centiyears; convert to years\n",
    "    df.agepreg /= 100.0\n",
    "    # birthwgt_lb contains at least one bogus value (51 lbs)\n",
    "    # replace with NaN\n",
    "    df.loc[df.birthwgt_lb > 20, 'birthwgt_lb'] = np.nan\n",
    "    # replace 'not ascertained', 'refused', 'don't know' with NaN\n",
    "    na_vals = [97, 98, 99]\n",
    "    df.birthwgt_lb.replace(na_vals, np.nan, inplace=True)\n",
    "    df.birthwgt_oz.replace(na_vals, np.nan, inplace=True)\n",
    "    df.hpagelb.replace(na_vals, np.nan, inplace=True)\n",
    "    df.babysex.replace([7, 9], np.nan, inplace=True)\n",
    "    df.nbrnaliv.replace([9], np.nan, inplace=True)\n",
    "    # birthweight is stored in two columns, lbs and oz.\n",
    "    # convert to a single column in lb\n",
    "    # NOTE: creating a new column requires dictionary syntax,\n",
    "    # not attribute assignment (like df.totalwgt_lb)\n",
    "    df['totalwgt_lb'] = df.birthwgt_lb + df.birthwgt_oz / 16.0    \n",
    "    # due to a bug in ReadStataDct, the last variable gets clipped;\n",
    "    # so for now set it to NaN\n",
    "    df.cmintvw = np.nan"
   ]
  },
  {
   "cell_type": "code",
   "execution_count": 12,
   "metadata": {},
   "outputs": [],
   "source": [
    "dct = ReadStataDct(fPDCT)\n",
    "preg = dct.ReadFixedWidth(pregDataZip,compression='gzip' )\n",
    "CleanFemPreg(preg)"
   ]
  },
  {
   "cell_type": "code",
   "execution_count": 13,
   "metadata": {},
   "outputs": [],
   "source": [
    "dct = ReadStataDct(fRDCT)\n",
    "resp = dct.ReadFixedWidth(respDataZip,compression='gzip' )"
   ]
  },
  {
   "cell_type": "code",
   "execution_count": 17,
   "metadata": {
    "scrolled": true
   },
   "outputs": [],
   "source": [
    "live = preg[preg.outcome == 1]\n",
    "hist = {}\n",
    "t = live.birthwgt_lb\n",
    "for x in t:\n",
    "\thist[x] = hist.get(x,0) + 1\n",
    "\t\n",
    "clean_hist = {x: hist[x] for x in hist if not isnan(x)}"
   ]
  },
  {
   "cell_type": "code",
   "execution_count": 20,
   "metadata": {},
   "outputs": [
    {
     "data": {
      "text/plain": [
       "{8.0: 1889,\n",
       " 7.0: 3049,\n",
       " 9.0: 623,\n",
       " 6.0: 2223,\n",
       " 4.0: 229,\n",
       " 5.0: 697,\n",
       " 10.0: 132,\n",
       " 12.0: 10,\n",
       " 14.0: 3,\n",
       " 3.0: 98,\n",
       " 1.0: 40,\n",
       " 11.0: 26,\n",
       " 2.0: 53,\n",
       " 13.0: 3,\n",
       " 0.0: 8,\n",
       " 15.0: 1}"
      ]
     },
     "execution_count": 20,
     "metadata": {},
     "output_type": "execute_result"
    }
   ],
   "source": [
    "clean_hist"
   ]
  }
 ],
 "metadata": {
  "kernelspec": {
   "display_name": "Python 3",
   "language": "python",
   "name": "python3"
  },
  "language_info": {
   "codemirror_mode": {
    "name": "ipython",
    "version": 3
   },
   "file_extension": ".py",
   "mimetype": "text/x-python",
   "name": "python",
   "nbconvert_exporter": "python",
   "pygments_lexer": "ipython3",
   "version": "3.6.5"
  }
 },
 "nbformat": 4,
 "nbformat_minor": 2
}
